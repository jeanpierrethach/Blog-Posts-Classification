{
  "nbformat": 4,
  "nbformat_minor": 0,
  "metadata": {
    "colab": {
      "name": "IFT6285-Dev1.ipynb",
      "provenance": [],
      "collapsed_sections": [],
      "machine_shape": "hm"
    },
    "kernelspec": {
      "name": "python3",
      "display_name": "Python 3"
    },
    "accelerator": "GPU"
  },
  "cells": [
    {
      "cell_type": "code",
      "metadata": {
        "id": "pAMlD7TJPwuk",
        "colab_type": "code",
        "outputId": "a1632d4a-c411-451b-84ca-f5aa58b7cbcf",
        "colab": {
          "base_uri": "https://localhost:8080/",
          "height": 1000
        }
      },
      "source": [
        "import os\n",
        "import numpy as np\n",
        "import pandas as pd\n",
        "from sklearn.model_selection import train_test_split\n",
        "from tqdm.auto import tqdm\n",
        "import tensorflow.keras.layers as L\n",
        "import tensorflow as tf\n",
        "import tensorflow_hub as hub\n",
        "from tensorflow.keras import Model, Sequential\n",
        "from tensorflow.keras import regularizers\n",
        "from tensorflow.keras.backend import one_hot, clear_session\n",
        "from tensorflow.keras.preprocessing.sequence import pad_sequences\n",
        "from keras.preprocessing.text import Tokenizer as KerasTokenizer\n",
        "from sklearn.preprocessing import OneHotEncoder, LabelEncoder\n",
        "from sklearn.metrics import classification_report\n",
        "\n",
        "from google.colab import drive\n",
        "drive.mount('/content/gdrive')\n",
        "\n",
        "import tensorflow.compat.v1 as tf\n",
        "tf.disable_v2_behavior() # Needed for TensorFlow Hub\n",
        "\n",
        "datasets = ['train', 'test']\n",
        "root_path = 'gdrive/My Drive/Colab Notebooks/'\n",
        "print(os.listdir(\"gdrive/My Drive/Colab Notebooks\"))\n",
        "\n",
        "N_SAMPLES = 25000\n",
        "VAL_FRACTION = 0.1\n",
        "\n",
        "train_model = False\n",
        "start_predict = True\n",
        "\n",
        "train_val_df = pd.read_csv(\"gdrive/My Drive/Colab Notebooks/train_posts.csv\", names=['blog', 'class'])\n",
        "train_val_df = train_val_df[:N_SAMPLES]\n",
        "\n",
        "train_df, val_df = train_test_split(train_val_df, test_size=VAL_FRACTION)\n",
        "\n",
        "def vectorize_labels(labels):\n",
        "    return np.array(labels)[:, np.newaxis]\n",
        "\n",
        "def to_dense(*args):\n",
        "    return [item.todense() if hasattr(item, 'todense') else item for item in args]\n",
        "\n",
        "sess = tf.InteractiveSession()\n",
        "\n",
        "use = hub.Module('https://tfhub.dev/google/universal-sentence-encoder/2')\n",
        "sess.run(tf.global_variables_initializer())\n",
        "sess.run(tf.tables_initializer())\n",
        "\n",
        "class USEModel:\n",
        "    def __init__(self, classes, use=None):\n",
        "        if not use:\n",
        "            use = hub.Module('https://tfhub.dev/google/universal-sentence-encoder/2')\n",
        "        self.classes = classes\n",
        "        self.class_count = len(classes)\n",
        "        self.use = use\n",
        "        self.one_hot_encoder = OneHotEncoder()\n",
        "        self.one_hot_encoder.fit(vectorize_labels(classes))\n",
        "        \n",
        "    def preprocess(self, data):\n",
        "        X, y = data\n",
        "        X_emb = sess.run(self.use(X.tolist()))\n",
        "        y_onehot = self.one_hot_encoder.transform(y[:, np.newaxis]).todense()\n",
        "        return X_emb, y_onehot\n",
        "    \n",
        "    def prepare(self, train, val):\n",
        "        self.train_data = self.preprocess(train)\n",
        "        self.val_data = self.preprocess(val)\n",
        "        self.build_model(self.train_data[0].shape[1])\n",
        "        \n",
        "    def build_model(self, input_shape):\n",
        "        print(input_shape)\n",
        "        inputs = layer = L.Input(shape=input_shape, dtype=float)\n",
        "        layer = L.Dense(32, activation='relu')(layer)\n",
        "        layer = L.Dense(32, activation='relu')(layer)\n",
        "        layer = L.Dropout(.5)(layer)\n",
        "        layer = L.Dense(self.class_count, activation='softmax')(inputs)\n",
        "        self.model = Model(inputs=inputs, outputs=layer)\n",
        "        self.model.compile(\n",
        "            loss='categorical_crossentropy',\n",
        "            optimizer='adam',\n",
        "            metrics=['acc']) \n",
        "        print(self.model.summary())       \n",
        "\n",
        "    def train(self, epochs=1):\n",
        "        print(\"Training\")\n",
        "        X_train, y_train = self.train_data\n",
        "        history = self.model.fit(X_train, y_train, validation_data=self.val_data, epochs=epochs)\n",
        "\n",
        "        print(history.history.keys())\n",
        "\n",
        "        import matplotlib.pyplot as plt\n",
        "        plt.plot(history.history['acc'])\n",
        "        plt.plot(history.history['val_acc'])\n",
        "        plt.title('model accuracy')\n",
        "        plt.ylabel('accuracy')\n",
        "        plt.xlabel('epoch')\n",
        "        plt.legend(['train', 'test'], loc='upper left')\n",
        "        plt.show()\n",
        "\n",
        "        plt.plot(history.history['loss'])\n",
        "        plt.plot(history.history['val_loss'])\n",
        "        plt.title('model loss')\n",
        "        plt.ylabel('loss')\n",
        "        plt.xlabel('epoch')\n",
        "        plt.legend(['train', 'test'], loc='upper left')\n",
        "        plt.show()\n",
        "        \n",
        "    def predict(self, X):\n",
        "        X_emb = sess.run(self.use(X.tolist()))        \n",
        "        results = self.model.predict(X_emb)\n",
        "        return np.squeeze(self.one_hot_encoder.inverse_transform(results))\n",
        "\n",
        "model = USEModel(train_val_df['class'].unique(), use)\n",
        "if train_model:\n",
        "  model.prepare((train_df.blog, train_df['class']), (val_df.blog, val_df['class']))\n",
        "\n",
        "if train_model:\n",
        "  model.train(10)\n",
        "\n",
        "test_splits_name = ['test_split01.csv', 'test_split02.csv', 'test_split03.csv', \n",
        "                    'test_split04.csv', 'test_split05.csv', 'test_split06.csv', \n",
        "                    'test_split07.csv', 'test_split08.csv', 'test_split09.csv', \n",
        "                    'test_split10.csv', 'test_split11.csv']\n",
        "\n",
        "if start_predict:\n",
        "  model.prepare((train_val_df['blog'], train_val_df['class']), (val_df['blog'], val_df['class']))\n",
        "  model.train(100)\n",
        "\n",
        "  for test_filename in test_splits_name:\n",
        "      test_df = pd.read_csv(\"gdrive/My Drive/Colab Notebooks/\" + test_filename, names=['blog', 'class'])\n",
        "      test_labels = np.array(test_df['class'].tolist())\n",
        "\n",
        "      preds_test = model.predict(test_df['blog'])\n",
        "      print(\"accuracy={0}\".format(np.mean(preds_test == test_labels)))\n",
        "      print(classification_report(test_labels, preds_test, target_names=['class 0','class 1','class 2']))\n",
        "\n",
        "\n",
        "import gc\n",
        "gc.collect()\n",
        "clear_session()"
      ],
      "execution_count": 2,
      "outputs": [
        {
          "output_type": "stream",
          "text": [
            "Drive already mounted at /content/gdrive; to attempt to forcibly remount, call drive.mount(\"/content/gdrive\", force_remount=True).\n",
            "['data_train.pkl', 'data_test.pkl', 'train_posts.csv', 'test_split04.csv', 'test_split05.csv', 'test_split06.csv', 'test_split07.csv', 'test_split08.csv', 'test_split09.csv', 'test_split10.csv', 'test_split11.csv', 'test_split01.csv', 'test_split02.csv', 'test_split03.csv', 'IFT6390-Kaggle.ipynb', 'IFT6285-Dev1.ipynb']\n"
          ],
          "name": "stdout"
        },
        {
          "output_type": "stream",
          "text": [
            "/usr/local/lib/python3.6/dist-packages/tensorflow_core/python/client/session.py:1750: UserWarning: An interactive session is already active. This can cause out-of-memory errors in some cases. You must explicitly call `InteractiveSession.close()` to release resources held by the other session(s).\n",
            "  warnings.warn('An interactive session is already active. This can '\n",
            "/usr/local/lib/python3.6/dist-packages/sklearn/preprocessing/_encoders.py:415: FutureWarning: The handling of integer data will change in version 0.22. Currently, the categories are determined based on the range [0, max(values)], while in the future they will be determined based on the unique values.\n",
            "If you want the future behaviour and silence this warning, you can specify \"categories='auto'\".\n",
            "In case you used a LabelEncoder before this OneHotEncoder to convert the categories to integers, then you can now use the OneHotEncoder directly.\n",
            "  warnings.warn(msg, FutureWarning)\n"
          ],
          "name": "stderr"
        },
        {
          "output_type": "stream",
          "text": [
            "INFO:tensorflow:Saver not created because there are no variables in the graph to restore\n"
          ],
          "name": "stdout"
        },
        {
          "output_type": "stream",
          "text": [
            "INFO:tensorflow:Saver not created because there are no variables in the graph to restore\n"
          ],
          "name": "stderr"
        },
        {
          "output_type": "stream",
          "text": [
            "INFO:tensorflow:Saver not created because there are no variables in the graph to restore\n"
          ],
          "name": "stdout"
        },
        {
          "output_type": "stream",
          "text": [
            "INFO:tensorflow:Saver not created because there are no variables in the graph to restore\n"
          ],
          "name": "stderr"
        },
        {
          "output_type": "stream",
          "text": [
            "512\n",
            "Model: \"model\"\n",
            "_________________________________________________________________\n",
            "Layer (type)                 Output Shape              Param #   \n",
            "=================================================================\n",
            "input_1 (InputLayer)         [(None, 512)]             0         \n",
            "_________________________________________________________________\n",
            "dense_2 (Dense)              (None, 3)                 1539      \n",
            "=================================================================\n",
            "Total params: 1,539\n",
            "Trainable params: 1,539\n",
            "Non-trainable params: 0\n",
            "_________________________________________________________________\n",
            "None\n",
            "Training\n",
            "Train on 25000 samples, validate on 2500 samples\n",
            "Epoch 1/100\n",
            "25000/25000 [==============================] - 2s 73us/sample - loss: 0.9374 - acc: 0.5621 - val_loss: 0.8789 - val_acc: 0.6208\n",
            "Epoch 2/100\n",
            "25000/25000 [==============================] - 1s 58us/sample - loss: 0.8492 - acc: 0.6152 - val_loss: 0.8426 - val_acc: 0.6252\n",
            "Epoch 3/100\n",
            "25000/25000 [==============================] - 1s 57us/sample - loss: 0.8237 - acc: 0.6266 - val_loss: 0.8263 - val_acc: 0.6344\n",
            "Epoch 4/100\n",
            "25000/25000 [==============================] - 1s 57us/sample - loss: 0.8108 - acc: 0.6350 - val_loss: 0.8178 - val_acc: 0.6360\n",
            "Epoch 5/100\n",
            "25000/25000 [==============================] - 1s 57us/sample - loss: 0.8029 - acc: 0.6381 - val_loss: 0.8115 - val_acc: 0.6328\n",
            "Epoch 6/100\n",
            "25000/25000 [==============================] - 1s 56us/sample - loss: 0.7977 - acc: 0.6419 - val_loss: 0.8068 - val_acc: 0.6396\n",
            "Epoch 7/100\n",
            "25000/25000 [==============================] - 1s 57us/sample - loss: 0.7938 - acc: 0.6427 - val_loss: 0.8038 - val_acc: 0.6416\n",
            "Epoch 8/100\n",
            "25000/25000 [==============================] - 1s 56us/sample - loss: 0.7903 - acc: 0.6464 - val_loss: 0.8011 - val_acc: 0.6436\n",
            "Epoch 9/100\n",
            "25000/25000 [==============================] - 1s 57us/sample - loss: 0.7875 - acc: 0.6455 - val_loss: 0.7995 - val_acc: 0.6428\n",
            "Epoch 10/100\n",
            "25000/25000 [==============================] - 1s 57us/sample - loss: 0.7851 - acc: 0.6482 - val_loss: 0.7973 - val_acc: 0.6480\n",
            "Epoch 11/100\n",
            "25000/25000 [==============================] - 1s 57us/sample - loss: 0.7830 - acc: 0.6484 - val_loss: 0.7954 - val_acc: 0.6468\n",
            "Epoch 12/100\n",
            "25000/25000 [==============================] - 1s 58us/sample - loss: 0.7812 - acc: 0.6492 - val_loss: 0.7929 - val_acc: 0.6480\n",
            "Epoch 13/100\n",
            "25000/25000 [==============================] - 1s 57us/sample - loss: 0.7796 - acc: 0.6522 - val_loss: 0.7916 - val_acc: 0.6492\n",
            "Epoch 14/100\n",
            "25000/25000 [==============================] - 1s 58us/sample - loss: 0.7781 - acc: 0.6520 - val_loss: 0.7899 - val_acc: 0.6520\n",
            "Epoch 15/100\n",
            "25000/25000 [==============================] - 1s 57us/sample - loss: 0.7767 - acc: 0.6525 - val_loss: 0.7892 - val_acc: 0.6520\n",
            "Epoch 16/100\n",
            "25000/25000 [==============================] - 1s 58us/sample - loss: 0.7753 - acc: 0.6531 - val_loss: 0.7880 - val_acc: 0.6536\n",
            "Epoch 17/100\n",
            "25000/25000 [==============================] - 1s 58us/sample - loss: 0.7741 - acc: 0.6528 - val_loss: 0.7875 - val_acc: 0.6504\n",
            "Epoch 18/100\n",
            "25000/25000 [==============================] - 1s 57us/sample - loss: 0.7729 - acc: 0.6548 - val_loss: 0.7859 - val_acc: 0.6560\n",
            "Epoch 19/100\n",
            "25000/25000 [==============================] - 1s 58us/sample - loss: 0.7716 - acc: 0.6558 - val_loss: 0.7854 - val_acc: 0.6556\n",
            "Epoch 20/100\n",
            "25000/25000 [==============================] - 1s 56us/sample - loss: 0.7707 - acc: 0.6561 - val_loss: 0.7845 - val_acc: 0.6516\n",
            "Epoch 21/100\n",
            "25000/25000 [==============================] - 1s 56us/sample - loss: 0.7698 - acc: 0.6573 - val_loss: 0.7830 - val_acc: 0.6568\n",
            "Epoch 22/100\n",
            "25000/25000 [==============================] - 1s 58us/sample - loss: 0.7688 - acc: 0.6578 - val_loss: 0.7821 - val_acc: 0.6572\n",
            "Epoch 23/100\n",
            "25000/25000 [==============================] - 1s 56us/sample - loss: 0.7679 - acc: 0.6582 - val_loss: 0.7818 - val_acc: 0.6556\n",
            "Epoch 24/100\n",
            "25000/25000 [==============================] - 1s 58us/sample - loss: 0.7671 - acc: 0.6587 - val_loss: 0.7812 - val_acc: 0.6580\n",
            "Epoch 25/100\n",
            "25000/25000 [==============================] - 1s 57us/sample - loss: 0.7662 - acc: 0.6583 - val_loss: 0.7804 - val_acc: 0.6552\n",
            "Epoch 26/100\n",
            "25000/25000 [==============================] - 1s 58us/sample - loss: 0.7655 - acc: 0.6594 - val_loss: 0.7796 - val_acc: 0.6584\n",
            "Epoch 27/100\n",
            "25000/25000 [==============================] - 1s 58us/sample - loss: 0.7648 - acc: 0.6602 - val_loss: 0.7786 - val_acc: 0.6604\n",
            "Epoch 28/100\n",
            "25000/25000 [==============================] - 1s 58us/sample - loss: 0.7639 - acc: 0.6601 - val_loss: 0.7783 - val_acc: 0.6588\n",
            "Epoch 29/100\n",
            "25000/25000 [==============================] - 1s 59us/sample - loss: 0.7633 - acc: 0.6610 - val_loss: 0.7778 - val_acc: 0.6628\n",
            "Epoch 30/100\n",
            "25000/25000 [==============================] - 1s 59us/sample - loss: 0.7626 - acc: 0.6606 - val_loss: 0.7768 - val_acc: 0.6572\n",
            "Epoch 31/100\n",
            "25000/25000 [==============================] - 1s 60us/sample - loss: 0.7621 - acc: 0.6612 - val_loss: 0.7766 - val_acc: 0.6588\n",
            "Epoch 32/100\n",
            "25000/25000 [==============================] - 1s 59us/sample - loss: 0.7613 - acc: 0.6611 - val_loss: 0.7759 - val_acc: 0.6580\n",
            "Epoch 33/100\n",
            "25000/25000 [==============================] - 1s 59us/sample - loss: 0.7608 - acc: 0.6620 - val_loss: 0.7755 - val_acc: 0.6588\n",
            "Epoch 34/100\n",
            "25000/25000 [==============================] - 1s 58us/sample - loss: 0.7601 - acc: 0.6624 - val_loss: 0.7752 - val_acc: 0.6640\n",
            "Epoch 35/100\n",
            "25000/25000 [==============================] - 1s 60us/sample - loss: 0.7596 - acc: 0.6633 - val_loss: 0.7745 - val_acc: 0.6596\n",
            "Epoch 36/100\n",
            "25000/25000 [==============================] - 1s 59us/sample - loss: 0.7591 - acc: 0.6630 - val_loss: 0.7740 - val_acc: 0.6600\n",
            "Epoch 37/100\n",
            "25000/25000 [==============================] - 1s 59us/sample - loss: 0.7585 - acc: 0.6634 - val_loss: 0.7735 - val_acc: 0.6604\n",
            "Epoch 38/100\n",
            "25000/25000 [==============================] - 1s 60us/sample - loss: 0.7581 - acc: 0.6629 - val_loss: 0.7731 - val_acc: 0.6612\n",
            "Epoch 39/100\n",
            "25000/25000 [==============================] - 1s 59us/sample - loss: 0.7576 - acc: 0.6632 - val_loss: 0.7735 - val_acc: 0.6624\n",
            "Epoch 40/100\n",
            "25000/25000 [==============================] - 1s 59us/sample - loss: 0.7572 - acc: 0.6626 - val_loss: 0.7721 - val_acc: 0.6612\n",
            "Epoch 41/100\n",
            "25000/25000 [==============================] - 1s 57us/sample - loss: 0.7564 - acc: 0.6640 - val_loss: 0.7716 - val_acc: 0.6604\n",
            "Epoch 42/100\n",
            "25000/25000 [==============================] - 1s 58us/sample - loss: 0.7560 - acc: 0.6657 - val_loss: 0.7718 - val_acc: 0.6652\n",
            "Epoch 43/100\n",
            "25000/25000 [==============================] - 1s 59us/sample - loss: 0.7557 - acc: 0.6646 - val_loss: 0.7713 - val_acc: 0.6644\n",
            "Epoch 44/100\n",
            "25000/25000 [==============================] - 1s 59us/sample - loss: 0.7553 - acc: 0.6655 - val_loss: 0.7708 - val_acc: 0.6620\n",
            "Epoch 45/100\n",
            "25000/25000 [==============================] - 1s 58us/sample - loss: 0.7548 - acc: 0.6654 - val_loss: 0.7713 - val_acc: 0.6624\n",
            "Epoch 46/100\n",
            "25000/25000 [==============================] - 1s 58us/sample - loss: 0.7545 - acc: 0.6654 - val_loss: 0.7703 - val_acc: 0.6632\n",
            "Epoch 47/100\n",
            "25000/25000 [==============================] - 1s 59us/sample - loss: 0.7539 - acc: 0.6657 - val_loss: 0.7705 - val_acc: 0.6620\n",
            "Epoch 48/100\n",
            "25000/25000 [==============================] - 1s 58us/sample - loss: 0.7538 - acc: 0.6639 - val_loss: 0.7691 - val_acc: 0.6648\n",
            "Epoch 49/100\n",
            "25000/25000 [==============================] - 1s 57us/sample - loss: 0.7533 - acc: 0.6657 - val_loss: 0.7689 - val_acc: 0.6616\n",
            "Epoch 50/100\n",
            "25000/25000 [==============================] - 1s 58us/sample - loss: 0.7529 - acc: 0.6660 - val_loss: 0.7688 - val_acc: 0.6620\n",
            "Epoch 51/100\n",
            "25000/25000 [==============================] - 1s 58us/sample - loss: 0.7527 - acc: 0.6651 - val_loss: 0.7685 - val_acc: 0.6644\n",
            "Epoch 52/100\n",
            "25000/25000 [==============================] - 1s 58us/sample - loss: 0.7521 - acc: 0.6652 - val_loss: 0.7689 - val_acc: 0.6636\n",
            "Epoch 53/100\n",
            "25000/25000 [==============================] - 1s 58us/sample - loss: 0.7519 - acc: 0.6668 - val_loss: 0.7680 - val_acc: 0.6660\n",
            "Epoch 54/100\n",
            "25000/25000 [==============================] - 1s 59us/sample - loss: 0.7515 - acc: 0.6660 - val_loss: 0.7685 - val_acc: 0.6676\n",
            "Epoch 55/100\n",
            "25000/25000 [==============================] - 1s 59us/sample - loss: 0.7514 - acc: 0.6683 - val_loss: 0.7674 - val_acc: 0.6644\n",
            "Epoch 56/100\n",
            "25000/25000 [==============================] - 1s 60us/sample - loss: 0.7511 - acc: 0.6662 - val_loss: 0.7671 - val_acc: 0.6648\n",
            "Epoch 57/100\n",
            "25000/25000 [==============================] - 1s 58us/sample - loss: 0.7507 - acc: 0.6671 - val_loss: 0.7668 - val_acc: 0.6636\n",
            "Epoch 58/100\n",
            "25000/25000 [==============================] - 1s 60us/sample - loss: 0.7504 - acc: 0.6664 - val_loss: 0.7670 - val_acc: 0.6660\n",
            "Epoch 59/100\n",
            "25000/25000 [==============================] - 1s 59us/sample - loss: 0.7500 - acc: 0.6677 - val_loss: 0.7668 - val_acc: 0.6636\n",
            "Epoch 60/100\n",
            "25000/25000 [==============================] - 1s 59us/sample - loss: 0.7498 - acc: 0.6665 - val_loss: 0.7666 - val_acc: 0.6644\n",
            "Epoch 61/100\n",
            "25000/25000 [==============================] - 1s 59us/sample - loss: 0.7495 - acc: 0.6675 - val_loss: 0.7659 - val_acc: 0.6644\n",
            "Epoch 62/100\n",
            "25000/25000 [==============================] - 1s 59us/sample - loss: 0.7492 - acc: 0.6675 - val_loss: 0.7654 - val_acc: 0.6636\n",
            "Epoch 63/100\n",
            "25000/25000 [==============================] - 1s 59us/sample - loss: 0.7489 - acc: 0.6684 - val_loss: 0.7658 - val_acc: 0.6692\n",
            "Epoch 64/100\n",
            "25000/25000 [==============================] - 1s 59us/sample - loss: 0.7489 - acc: 0.6670 - val_loss: 0.7651 - val_acc: 0.6648\n",
            "Epoch 65/100\n",
            "25000/25000 [==============================] - 1s 55us/sample - loss: 0.7484 - acc: 0.6671 - val_loss: 0.7645 - val_acc: 0.6616\n",
            "Epoch 66/100\n",
            "25000/25000 [==============================] - 1s 57us/sample - loss: 0.7481 - acc: 0.6692 - val_loss: 0.7647 - val_acc: 0.6656\n",
            "Epoch 67/100\n",
            "25000/25000 [==============================] - 1s 59us/sample - loss: 0.7480 - acc: 0.6693 - val_loss: 0.7652 - val_acc: 0.6652\n",
            "Epoch 68/100\n",
            "25000/25000 [==============================] - 1s 58us/sample - loss: 0.7477 - acc: 0.6685 - val_loss: 0.7643 - val_acc: 0.6660\n",
            "Epoch 69/100\n",
            "25000/25000 [==============================] - 1s 58us/sample - loss: 0.7475 - acc: 0.6687 - val_loss: 0.7641 - val_acc: 0.6652\n",
            "Epoch 70/100\n",
            "25000/25000 [==============================] - 1s 58us/sample - loss: 0.7471 - acc: 0.6694 - val_loss: 0.7645 - val_acc: 0.6684\n",
            "Epoch 71/100\n",
            "25000/25000 [==============================] - 1s 58us/sample - loss: 0.7471 - acc: 0.6684 - val_loss: 0.7634 - val_acc: 0.6648\n",
            "Epoch 72/100\n",
            "25000/25000 [==============================] - 1s 57us/sample - loss: 0.7469 - acc: 0.6691 - val_loss: 0.7639 - val_acc: 0.6684\n",
            "Epoch 73/100\n",
            "25000/25000 [==============================] - 1s 57us/sample - loss: 0.7466 - acc: 0.6691 - val_loss: 0.7638 - val_acc: 0.6648\n",
            "Epoch 74/100\n",
            "25000/25000 [==============================] - 1s 57us/sample - loss: 0.7464 - acc: 0.6688 - val_loss: 0.7636 - val_acc: 0.6656\n",
            "Epoch 75/100\n",
            "25000/25000 [==============================] - 1s 58us/sample - loss: 0.7462 - acc: 0.6700 - val_loss: 0.7634 - val_acc: 0.6644\n",
            "Epoch 76/100\n",
            "25000/25000 [==============================] - 1s 56us/sample - loss: 0.7460 - acc: 0.6683 - val_loss: 0.7629 - val_acc: 0.6640\n",
            "Epoch 77/100\n",
            "25000/25000 [==============================] - 1s 56us/sample - loss: 0.7457 - acc: 0.6694 - val_loss: 0.7632 - val_acc: 0.6688\n",
            "Epoch 78/100\n",
            "25000/25000 [==============================] - 1s 57us/sample - loss: 0.7455 - acc: 0.6703 - val_loss: 0.7620 - val_acc: 0.6640\n",
            "Epoch 79/100\n",
            "25000/25000 [==============================] - 1s 57us/sample - loss: 0.7453 - acc: 0.6702 - val_loss: 0.7620 - val_acc: 0.6644\n",
            "Epoch 80/100\n",
            "25000/25000 [==============================] - 1s 57us/sample - loss: 0.7451 - acc: 0.6698 - val_loss: 0.7622 - val_acc: 0.6640\n",
            "Epoch 81/100\n",
            "25000/25000 [==============================] - 1s 56us/sample - loss: 0.7449 - acc: 0.6699 - val_loss: 0.7624 - val_acc: 0.6688\n",
            "Epoch 82/100\n",
            "25000/25000 [==============================] - 1s 56us/sample - loss: 0.7448 - acc: 0.6691 - val_loss: 0.7618 - val_acc: 0.6664\n",
            "Epoch 83/100\n",
            "25000/25000 [==============================] - 1s 59us/sample - loss: 0.7445 - acc: 0.6697 - val_loss: 0.7618 - val_acc: 0.6684\n",
            "Epoch 84/100\n",
            "25000/25000 [==============================] - 1s 57us/sample - loss: 0.7446 - acc: 0.6700 - val_loss: 0.7617 - val_acc: 0.6688\n",
            "Epoch 85/100\n",
            "25000/25000 [==============================] - 1s 56us/sample - loss: 0.7442 - acc: 0.6700 - val_loss: 0.7616 - val_acc: 0.6680\n",
            "Epoch 86/100\n",
            "25000/25000 [==============================] - 1s 56us/sample - loss: 0.7442 - acc: 0.6697 - val_loss: 0.7611 - val_acc: 0.6672\n",
            "Epoch 87/100\n",
            "25000/25000 [==============================] - 1s 57us/sample - loss: 0.7439 - acc: 0.6718 - val_loss: 0.7620 - val_acc: 0.6680\n",
            "Epoch 88/100\n",
            "25000/25000 [==============================] - 1s 57us/sample - loss: 0.7440 - acc: 0.6701 - val_loss: 0.7609 - val_acc: 0.6660\n",
            "Epoch 89/100\n",
            "25000/25000 [==============================] - 1s 57us/sample - loss: 0.7435 - acc: 0.6708 - val_loss: 0.7605 - val_acc: 0.6668\n",
            "Epoch 90/100\n",
            "25000/25000 [==============================] - 1s 57us/sample - loss: 0.7434 - acc: 0.6712 - val_loss: 0.7608 - val_acc: 0.6688\n",
            "Epoch 91/100\n",
            "25000/25000 [==============================] - 1s 57us/sample - loss: 0.7433 - acc: 0.6715 - val_loss: 0.7603 - val_acc: 0.6648\n",
            "Epoch 92/100\n",
            "25000/25000 [==============================] - 1s 57us/sample - loss: 0.7432 - acc: 0.6714 - val_loss: 0.7609 - val_acc: 0.6652\n",
            "Epoch 93/100\n",
            "25000/25000 [==============================] - 1s 56us/sample - loss: 0.7430 - acc: 0.6716 - val_loss: 0.7605 - val_acc: 0.6668\n",
            "Epoch 94/100\n",
            "25000/25000 [==============================] - 1s 58us/sample - loss: 0.7428 - acc: 0.6713 - val_loss: 0.7605 - val_acc: 0.6668\n",
            "Epoch 95/100\n",
            "25000/25000 [==============================] - 1s 58us/sample - loss: 0.7427 - acc: 0.6712 - val_loss: 0.7600 - val_acc: 0.6652\n",
            "Epoch 96/100\n",
            "25000/25000 [==============================] - 1s 58us/sample - loss: 0.7424 - acc: 0.6711 - val_loss: 0.7607 - val_acc: 0.6688\n",
            "Epoch 97/100\n",
            "25000/25000 [==============================] - 1s 57us/sample - loss: 0.7425 - acc: 0.6703 - val_loss: 0.7600 - val_acc: 0.6680\n",
            "Epoch 98/100\n",
            "25000/25000 [==============================] - 1s 56us/sample - loss: 0.7421 - acc: 0.6717 - val_loss: 0.7594 - val_acc: 0.6676\n",
            "Epoch 99/100\n",
            "25000/25000 [==============================] - 1s 57us/sample - loss: 0.7423 - acc: 0.6712 - val_loss: 0.7592 - val_acc: 0.6672\n",
            "Epoch 100/100\n",
            "25000/25000 [==============================] - 1s 57us/sample - loss: 0.7420 - acc: 0.6716 - val_loss: 0.7592 - val_acc: 0.6668\n",
            "dict_keys(['loss', 'acc', 'val_loss', 'val_acc'])\n"
          ],
          "name": "stdout"
        },
        {
          "output_type": "display_data",
          "data": {
            "image/png": "[encoded data removed]",
            "text/plain": [
              "<Figure size 432x288 with 1 Axes>"
            ]
          },
          "metadata": {
            "tags": []
          }
        },
        {
          "output_type": "display_data",
          "data": {
            "image/png": "[encoded data removed]",
            "text/plain": [
              "<Figure size 432x288 with 1 Axes>"
            ]
          },
          "metadata": {
            "tags": []
          }
        },
        {
          "output_type": "stream",
          "text": [
            "INFO:tensorflow:Saver not created because there are no variables in the graph to restore\n"
          ],
          "name": "stdout"
        },
        {
          "output_type": "stream",
          "text": [
            "INFO:tensorflow:Saver not created because there are no variables in the graph to restore\n"
          ],
          "name": "stderr"
        },
        {
          "output_type": "stream",
          "text": [
            "accuracy=0.5548\n",
            "              precision    recall  f1-score   support\n",
            "\n",
            "     class 0       0.58      0.77      0.66      3251\n",
            "     class 1       0.60      0.55      0.57      4683\n",
            "     class 2       0.36      0.24      0.29      2066\n",
            "\n",
            "    accuracy                           0.55     10000\n",
            "   macro avg       0.51      0.52      0.51     10000\n",
            "weighted avg       0.54      0.55      0.54     10000\n",
            "\n",
            "INFO:tensorflow:Saver not created because there are no variables in the graph to restore\n"
          ],
          "name": "stdout"
        },
        {
          "output_type": "stream",
          "text": [
            "INFO:tensorflow:Saver not created because there are no variables in the graph to restore\n"
          ],
          "name": "stderr"
        },
        {
          "output_type": "stream",
          "text": [
            "accuracy=0.5944\n",
            "              precision    recall  f1-score   support\n",
            "\n",
            "     class 0       0.65      0.79      0.71      4006\n",
            "     class 1       0.60      0.54      0.57      4377\n",
            "     class 2       0.35      0.26      0.30      1617\n",
            "\n",
            "    accuracy                           0.59     10000\n",
            "   macro avg       0.53      0.53      0.53     10000\n",
            "weighted avg       0.58      0.59      0.58     10000\n",
            "\n",
            "INFO:tensorflow:Saver not created because there are no variables in the graph to restore\n"
          ],
          "name": "stdout"
        },
        {
          "output_type": "stream",
          "text": [
            "INFO:tensorflow:Saver not created because there are no variables in the graph to restore\n"
          ],
          "name": "stderr"
        },
        {
          "output_type": "stream",
          "text": [
            "accuracy=0.5471\n",
            "              precision    recall  f1-score   support\n",
            "\n",
            "     class 0       0.56      0.76      0.64      3136\n",
            "     class 1       0.54      0.53      0.54      4215\n",
            "     class 2       0.54      0.32      0.40      2649\n",
            "\n",
            "    accuracy                           0.55     10000\n",
            "   macro avg       0.55      0.54      0.53     10000\n",
            "weighted avg       0.55      0.55      0.53     10000\n",
            "\n",
            "INFO:tensorflow:Saver not created because there are no variables in the graph to restore\n"
          ],
          "name": "stdout"
        },
        {
          "output_type": "stream",
          "text": [
            "INFO:tensorflow:Saver not created because there are no variables in the graph to restore\n"
          ],
          "name": "stderr"
        },
        {
          "output_type": "stream",
          "text": [
            "accuracy=0.5698\n",
            "              precision    recall  f1-score   support\n",
            "\n",
            "     class 0       0.60      0.78      0.68      3416\n",
            "     class 1       0.60      0.53      0.56      4636\n",
            "     class 2       0.40      0.31      0.35      1948\n",
            "\n",
            "    accuracy                           0.57     10000\n",
            "   macro avg       0.53      0.54      0.53     10000\n",
            "weighted avg       0.56      0.57      0.56     10000\n",
            "\n",
            "INFO:tensorflow:Saver not created because there are no variables in the graph to restore\n"
          ],
          "name": "stdout"
        },
        {
          "output_type": "stream",
          "text": [
            "INFO:tensorflow:Saver not created because there are no variables in the graph to restore\n"
          ],
          "name": "stderr"
        },
        {
          "output_type": "stream",
          "text": [
            "accuracy=0.5405\n",
            "              precision    recall  f1-score   support\n",
            "\n",
            "     class 0       0.55      0.76      0.64      3089\n",
            "     class 1       0.57      0.52      0.54      4439\n",
            "     class 2       0.45      0.31      0.36      2472\n",
            "\n",
            "    accuracy                           0.54     10000\n",
            "   macro avg       0.52      0.53      0.51     10000\n",
            "weighted avg       0.53      0.54      0.53     10000\n",
            "\n",
            "INFO:tensorflow:Saver not created because there are no variables in the graph to restore\n"
          ],
          "name": "stdout"
        },
        {
          "output_type": "stream",
          "text": [
            "INFO:tensorflow:Saver not created because there are no variables in the graph to restore\n"
          ],
          "name": "stderr"
        },
        {
          "output_type": "stream",
          "text": [
            "accuracy=0.5551\n",
            "              precision    recall  f1-score   support\n",
            "\n",
            "     class 0       0.55      0.75      0.63      3343\n",
            "     class 1       0.62      0.53      0.57      4960\n",
            "     class 2       0.34      0.25      0.29      1697\n",
            "\n",
            "    accuracy                           0.56     10000\n",
            "   macro avg       0.51      0.51      0.50     10000\n",
            "weighted avg       0.55      0.56      0.55     10000\n",
            "\n",
            "INFO:tensorflow:Saver not created because there are no variables in the graph to restore\n"
          ],
          "name": "stdout"
        },
        {
          "output_type": "stream",
          "text": [
            "INFO:tensorflow:Saver not created because there are no variables in the graph to restore\n"
          ],
          "name": "stderr"
        },
        {
          "output_type": "stream",
          "text": [
            "accuracy=0.5514\n",
            "              precision    recall  f1-score   support\n",
            "\n",
            "     class 0       0.59      0.69      0.64      3911\n",
            "     class 1       0.59      0.53      0.56      4601\n",
            "     class 2       0.29      0.25      0.27      1488\n",
            "\n",
            "    accuracy                           0.55     10000\n",
            "   macro avg       0.49      0.49      0.49     10000\n",
            "weighted avg       0.55      0.55      0.55     10000\n",
            "\n",
            "INFO:tensorflow:Saver not created because there are no variables in the graph to restore\n"
          ],
          "name": "stdout"
        },
        {
          "output_type": "stream",
          "text": [
            "INFO:tensorflow:Saver not created because there are no variables in the graph to restore\n"
          ],
          "name": "stderr"
        },
        {
          "output_type": "stream",
          "text": [
            "accuracy=0.5594\n",
            "              precision    recall  f1-score   support\n",
            "\n",
            "     class 0       0.59      0.75      0.66      3556\n",
            "     class 1       0.59      0.54      0.56      4582\n",
            "     class 2       0.35      0.25      0.29      1862\n",
            "\n",
            "    accuracy                           0.56     10000\n",
            "   macro avg       0.51      0.51      0.51     10000\n",
            "weighted avg       0.55      0.56      0.55     10000\n",
            "\n",
            "INFO:tensorflow:Saver not created because there are no variables in the graph to restore\n"
          ],
          "name": "stdout"
        },
        {
          "output_type": "stream",
          "text": [
            "INFO:tensorflow:Saver not created because there are no variables in the graph to restore\n"
          ],
          "name": "stderr"
        },
        {
          "output_type": "stream",
          "text": [
            "accuracy=0.5576\n",
            "              precision    recall  f1-score   support\n",
            "\n",
            "     class 0       0.55      0.77      0.64      3177\n",
            "     class 1       0.62      0.52      0.57      4976\n",
            "     class 2       0.40      0.30      0.34      1847\n",
            "\n",
            "    accuracy                           0.56     10000\n",
            "   macro avg       0.52      0.53      0.52     10000\n",
            "weighted avg       0.56      0.56      0.55     10000\n",
            "\n",
            "INFO:tensorflow:Saver not created because there are no variables in the graph to restore\n"
          ],
          "name": "stdout"
        },
        {
          "output_type": "stream",
          "text": [
            "INFO:tensorflow:Saver not created because there are no variables in the graph to restore\n"
          ],
          "name": "stderr"
        },
        {
          "output_type": "stream",
          "text": [
            "accuracy=0.5803\n",
            "              precision    recall  f1-score   support\n",
            "\n",
            "     class 0       0.58      0.76      0.66      3666\n",
            "     class 1       0.67      0.52      0.59      5156\n",
            "     class 2       0.27      0.28      0.27      1178\n",
            "\n",
            "    accuracy                           0.58     10000\n",
            "   macro avg       0.51      0.52      0.51     10000\n",
            "weighted avg       0.59      0.58      0.58     10000\n",
            "\n",
            "INFO:tensorflow:Saver not created because there are no variables in the graph to restore\n"
          ],
          "name": "stdout"
        },
        {
          "output_type": "stream",
          "text": [
            "INFO:tensorflow:Saver not created because there are no variables in the graph to restore\n"
          ],
          "name": "stderr"
        },
        {
          "output_type": "stream",
          "text": [
            "accuracy=0.5758\n",
            "              precision    recall  f1-score   support\n",
            "\n",
            "     class 0       0.59      0.77      0.67      3453\n",
            "     class 1       0.63      0.53      0.58      4884\n",
            "     class 2       0.37      0.30      0.33      1663\n",
            "\n",
            "    accuracy                           0.58     10000\n",
            "   macro avg       0.53      0.53      0.53     10000\n",
            "weighted avg       0.57      0.58      0.57     10000\n",
            "\n"
          ],
          "name": "stdout"
        }
      ]
    },
    {
      "cell_type": "code",
      "metadata": {
        "id": "l3X5L8jvRINS",
        "colab_type": "code",
        "colab": {}
      },
      "source": [
        ""
      ],
      "execution_count": 0,
      "outputs": []
    }
  ]
}